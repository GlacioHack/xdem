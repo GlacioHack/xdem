{
 "cells": [
  {
   "cell_type": "markdown",
   "metadata": {},
   "source": [
    "## An Enhenced-NuthKaab Coreg\n",
    "\n",
    "I introduce an enhanced version of the NuthKaab Coreg method: GradientDescending Coreg. It offers faster performance on high resolution DEMs, improved accuracy, and support for point-DEM coregistration such as ICESat-2 measurements. \n",
    "\n",
    "However, it should be noted that this method is still under development and further testing is required before it can be used in academic projects."
   ]
  },
  {
   "attachments": {},
   "cell_type": "markdown",
   "metadata": {},
   "source": [
    "### Longyearbyen DEM 1990 and DEM 2009 in 20 m resolution.\n",
    "\n",
    "Cross-validation between GradientDescending Coreg and NuthKaab:\n",
    "- (1) Coreg by NuthKaab\n",
    "- (2) Coreg by GradientDescending\n",
    "- (3) Coreg by NuthKaab on the shifted DEM by GradientDescending\n",
    "- (3) Coreg by GradientDescending on the shifted DEM by NuthKaab\n"
   ]
  },
  {
   "cell_type": "code",
   "execution_count": 1,
   "metadata": {},
   "outputs": [],
   "source": [
    "from tests.test_coreg import TestCoregClass\n",
    "longyearbyen = TestCoregClass()\n"
   ]
  },
  {
   "cell_type": "code",
   "execution_count": 2,
   "metadata": {},
   "outputs": [
    {
     "name": "stdout",
     "output_type": "stream",
     "text": [
      "Running Nuth and Kääb (2011) coregistration\n",
      "   Calculate slope and aspect\n",
      "   Statistics on initial dh:\n",
      "      Median = -2.3340 - NMAD = 3.4173\n",
      "   Iteratively estimating horizontal shift:\n"
     ]
    },
    {
     "name": "stderr",
     "output_type": "stream",
     "text": [
      "   Progress:  10%|█         | 1/10 [00:00<00:02,  3.45it/s]"
     ]
    },
    {
     "name": "stdout",
     "output_type": "stream",
     "text": [
      "      #1 - Offset in pixels : (-0.44, -0.15)\n",
      "      Median = -1.9875 - NMAD = 2.5130  ==>  Gain = -26.46%\n"
     ]
    },
    {
     "name": "stderr",
     "output_type": "stream",
     "text": [
      "   Progress:  20%|██        | 2/10 [00:00<00:02,  2.98it/s]"
     ]
    },
    {
     "name": "stdout",
     "output_type": "stream",
     "text": [
      "      #2 - Offset in pixels : (-0.03, 0.01)\n",
      "      Median = -1.9815 - NMAD = 2.4989  ==>  Gain = -0.56%\n"
     ]
    },
    {
     "name": "stderr",
     "output_type": "stream",
     "text": [
      "   Progress:  20%|██        | 2/10 [00:00<00:03,  2.08it/s]"
     ]
    },
    {
     "name": "stdout",
     "output_type": "stream",
     "text": [
      "      #3 - Offset in pixels : (-0.00, 0.00)\n",
      "      Median = -1.9815 - NMAD = 2.4989  ==>  Gain = 0.00%\n",
      "   Last offset was below the residual offset threshold of 0.05 -> stopping\n",
      "\n",
      "   Final offset in pixels (east, north) : (-0.462557, -0.136185)\n",
      "   Statistics on coregistered dh:\n",
      "      Median = -1.9815 - NMAD = 2.4989\n"
     ]
    },
    {
     "name": "stderr",
     "output_type": "stream",
     "text": [
      "\n"
     ]
    }
   ],
   "source": [
    "# (1) The original test case of NuthKaab coreg\n",
    "longyearbyen.test_coreg_example(verbose=True)"
   ]
  },
  {
   "cell_type": "code",
   "execution_count": 3,
   "metadata": {},
   "outputs": [
    {
     "name": "stdout",
     "output_type": "stream",
     "text": [
      "Warning: There is no curvature in dataframe. Set mask_highcurv = True for more robust results and costs more time\n",
      "Running Gradient Descending Coreg - Zhihao (in preparation) \n",
      "Running on downsampling. The length of the gdf: 17383\n",
      "   Statistics on initial dh:\n",
      "      Median = -2.3606 - NMAD = 3.3895\n",
      "minimization starting\n",
      "args ()\n",
      "errorcontrol False\n",
      "paired True\n",
      "nit 1, Delta 2\n",
      "nit 2, Delta 1\n",
      "nit 3, Delta 0.5\n",
      "[-0.5  0. ]\n",
      "nit 4, Delta 0.5\n",
      "nit 5, Delta 0.25\n",
      "[-0.5  -0.25]\n",
      "nit 6, Delta 0.25\n",
      "nit 7, Delta 0.125\n",
      "[-0.5   -0.125]\n",
      "nit 8, Delta 0.125\n",
      "nit 9, Delta 0.0625\n",
      "nit 10, Delta 0.03125\n",
      "nit 11, Delta 0.015625\n",
      "nit 12, Delta 0.004\n",
      " message: convergence within deltatol\n",
      " success: True\n",
      "     fun: 2.4771835327148435\n",
      "       x: [-5.000e-01 -1.250e-01]\n",
      "     nit: 12\n",
      "    nfev: 36\n",
      "    free: [False False]\n",
      "\n",
      "   Final offset in pixels (east, north) : (-0.500000, -0.125000)\n",
      "   Statistics on coregistered dh:\n",
      "      Median = -1.9934 - NMAD = 2.4772\n"
     ]
    }
   ],
   "source": [
    "# (2) The new test case of GradientDescending coreg\n",
    "\n",
    "longyearbyen.test_coreg_example_gradiendescending(verbose=True,downsampling=20000)"
   ]
  },
  {
   "cell_type": "code",
   "execution_count": 4,
   "metadata": {},
   "outputs": [
    {
     "name": "stdout",
     "output_type": "stream",
     "text": [
      "Running Nuth and Kääb (2011) coregistration\n",
      "   Calculate slope and aspect\n",
      "   Statistics on initial dh:\n",
      "      Median = -0.6237 - NMAD = 5.6228\n",
      "   Iteratively estimating horizontal shift:\n"
     ]
    },
    {
     "name": "stderr",
     "output_type": "stream",
     "text": [
      "   Progress:  10%|█         | 1/10 [00:00<00:02,  3.55it/s]"
     ]
    },
    {
     "name": "stdout",
     "output_type": "stream",
     "text": [
      "      #1 - Offset in pixels : (-0.92, -1.03)\n",
      "      Median = -0.0055 - NMAD = 0.3411  ==>  Gain = -93.93%\n"
     ]
    },
    {
     "name": "stderr",
     "output_type": "stream",
     "text": [
      "   Progress:  20%|██        | 2/10 [00:00<00:02,  3.39it/s]"
     ]
    },
    {
     "name": "stdout",
     "output_type": "stream",
     "text": [
      "      #2 - Offset in pixels : (-0.08, 0.02)\n",
      "      Median = 0.0015 - NMAD = 0.0124  ==>  Gain = -96.37%\n"
     ]
    },
    {
     "name": "stderr",
     "output_type": "stream",
     "text": [
      "   Progress:  20%|██        | 2/10 [00:00<00:03,  2.31it/s]\n"
     ]
    },
    {
     "name": "stdout",
     "output_type": "stream",
     "text": [
      "      #3 - Offset in pixels : (0.00, 0.00)\n",
      "      Median = 0.0015 - NMAD = 0.0124  ==>  Gain = 0.00%\n",
      "   Last offset was below the residual offset threshold of 0.05 -> stopping\n",
      "\n",
      "   Final offset in pixels (east, north) : (-1.000418, -1.003234)\n",
      "   Statistics on coregistered dh:\n",
      "      Median = 0.0015 - NMAD = 0.0124\n",
      "Warning: There is no curvature in dataframe. Set mask_highcurv = True for more robust results and costs more time\n",
      "Running Gradient Descending Coreg - Zhihao (in preparation) \n",
      "Running on downsampling. The length of the gdf: 8732\n",
      "   Statistics on initial dh:\n",
      "      Median = -0.6453 - NMAD = 5.5883\n",
      "minimization starting\n",
      "args ()\n",
      "errorcontrol False\n",
      "paired True\n",
      "nit 1, Delta 2\n",
      "nit 2, Delta 1\n",
      "[ 0. -1.]\n",
      "[-1. -1.]\n",
      "nit 3, Delta 1\n",
      "nit 4, Delta 0.5\n",
      "nit 5, Delta 0.25\n",
      "nit 6, Delta 0.125\n",
      "nit 7, Delta 0.0625\n",
      "nit 8, Delta 0.03125\n",
      "nit 9, Delta 0.015625\n",
      "nit 10, Delta 0.004\n",
      " message: convergence within deltatol\n",
      " success: True\n",
      "     fun: 0.0\n",
      "       x: [-1.000e+00 -1.000e+00]\n",
      "     nit: 10\n",
      "    nfev: 38\n",
      "    free: [False False]\n",
      "\n",
      "   Final offset in pixels (east, north) : (-1.000000, -1.000000)\n",
      "   Statistics on coregistered dh:\n",
      "      Median = 0.0000 - NMAD = 0.0000\n",
      "Warning: There is no curvature in dataframe. Set mask_highcurv = True for more robust results and costs more time\n",
      "Running Nuth and Kääb (2011) coregistration. Zhihao's implement, shift pts instead of shift dem\n",
      "   Calculate slope and aspect\n",
      "   Statistics on initial dh:\n",
      "      Median = -0.669 - NMAD = 5.601\n",
      "   Iteratively estimating horizontal shit:\n"
     ]
    },
    {
     "name": "stderr",
     "output_type": "stream",
     "text": [
      "   Progress:   0%|          | 0/10 [00:00<?, ?it/s]"
     ]
    },
    {
     "name": "stdout",
     "output_type": "stream",
     "text": [
      "      #1 - Offset in pixels : (-0.941, -1.023)\n"
     ]
    },
    {
     "name": "stderr",
     "output_type": "stream",
     "text": [
      "   Progress:  10%|█         | 1/10 [00:00<00:04,  1.82it/s]"
     ]
    },
    {
     "name": "stdout",
     "output_type": "stream",
     "text": [
      "      Median = -0.003 - NMAD = 0.277  ==>  Gain = -95.047%\n",
      "      #2 - Offset in pixels : (-0.057, 0.019)\n"
     ]
    },
    {
     "name": "stderr",
     "output_type": "stream",
     "text": [
      "   Progress:  20%|██        | 2/10 [00:01<00:04,  1.80it/s]"
     ]
    },
    {
     "name": "stdout",
     "output_type": "stream",
     "text": [
      "      Median = 0.001 - NMAD = 0.019  ==>  Gain = -93.094%\n",
      "      #3 - Offset in pixels : (-0.000, 0.000)\n"
     ]
    },
    {
     "name": "stderr",
     "output_type": "stream",
     "text": [
      "   Progress:  20%|██        | 2/10 [00:01<00:06,  1.20it/s]"
     ]
    },
    {
     "name": "stdout",
     "output_type": "stream",
     "text": [
      "      Median = 0.001 - NMAD = 0.019  ==>  Gain = 0.000%\n",
      "   Last offset was below the residual offset threshold of 0.05 -> stopping\n",
      "\n",
      "   Final offset in pixels (east, north, bais) : (-0.997272, -1.003993,0.001202)\n",
      "   Statistics on coregistered dh:\n",
      "      Median = 0.001 - NMAD = 0.019\n"
     ]
    },
    {
     "name": "stderr",
     "output_type": "stream",
     "text": [
      "\n"
     ]
    }
   ],
   "source": [
    "# (3) shift ref_dem by the resutls from GradientDescending coreg, and than do NuthKaab again. \n",
    "# Most of time, NuthKaab cannot improve more.\n",
    "longyearbyen.test_coreg_example_shift_test(verbose=True)\n",
    "\n"
   ]
  },
  {
   "attachments": {},
   "cell_type": "markdown",
   "metadata": {},
   "source": [
    "## ICESat-2 and Longyearbyen DEM"
   ]
  },
  {
   "cell_type": "code",
   "execution_count": 5,
   "metadata": {},
   "outputs": [],
   "source": [
    "import pandas as pd\n",
    "import xdem\n",
    "df_ref = pd.read_csv('./examples/data/Longyearbyen/data/Longyearbyen_snow_free.csv', encoding='utf-8')"
   ]
  },
  {
   "cell_type": "code",
   "execution_count": 6,
   "metadata": {},
   "outputs": [
    {
     "data": {
      "text/plain": [
       "Driver:               GTiff \n",
       "Opened from file:     c:\\Users\\ZOZN109\\Documents\\GitHub\\xdem_snow\\examples\\data\\Longyearbyen\\data\\DEM_2009_ref.tif \n",
       "Filename:             c:/Users/ZOZN109/Documents/GitHub/xdem_snow/examples/data/Longyearbyen/data/DEM_2009_ref.tif \n",
       "Raster modified since disk load?  False \n",
       "Size:                 1332, 985\n",
       "Number of bands:      1\n",
       "Data types:           ('float32',)\n",
       "Coordinate System:    ['EPSG:25833']\n",
       "NoData Value:         -9999.0\n",
       "Pixel Size:           20.0, 20.0\n",
       "Upper Left Corner:    502810.0, 8654330.0\n",
       "Lower Right Corner:   529450.0, 8674030.0"
      ]
     },
     "execution_count": 6,
     "metadata": {},
     "output_type": "execute_result"
    }
   ],
   "source": [
    "longyearbyen.ref"
   ]
  },
  {
   "cell_type": "code",
   "execution_count": 16,
   "metadata": {},
   "outputs": [
    {
     "data": {
      "text/plain": [
       "Driver:               GTiff \n",
       "Opened from file:     c:\\Users\\ZOZN109\\Documents\\GitHub\\xdem_snow\\examples\\data\\Longyearbyen\\data\\DEM_1990.tif \n",
       "Filename:             c:/Users/ZOZN109/Documents/GitHub/xdem_snow/examples/data/Longyearbyen/data/DEM_1990.tif \n",
       "Raster modified since disk load?  False \n",
       "Size:                 1332, 985\n",
       "Number of bands:      1\n",
       "Data types:           ('float32',)\n",
       "Coordinate System:    ['EPSG:25833']\n",
       "NoData Value:         -9999.0\n",
       "Pixel Size:           20.0, 20.0\n",
       "Upper Left Corner:    502810.0, 8654330.0\n",
       "Lower Right Corner:   529450.0, 8674030.0"
      ]
     },
     "execution_count": 16,
     "metadata": {},
     "output_type": "execute_result"
    }
   ],
   "source": [
    "longyearbyen.tba"
   ]
  },
  {
   "cell_type": "code",
   "execution_count": 13,
   "metadata": {},
   "outputs": [
    {
     "data": {
      "text/plain": [
       "Index(['latitude', 'longitude', 'latitude_20m_0', 'latitude_20m_1',\n",
       "       'latitude_20m_2', 'latitude_20m_3', 'latitude_20m_4', 'longitude_20m_0',\n",
       "       'longitude_20m_1', 'longitude_20m_2', 'longitude_20m_3',\n",
       "       'longitude_20m_4', 'segment_landcover', 'segment_watermask',\n",
       "       'segment_snowcover', 'night_flag', 'brightness_flag', 'h_te_best_fit',\n",
       "       'h_te_best_fit_20m_0', 'h_te_best_fit_20m_1', 'h_te_best_fit_20m_2',\n",
       "       'h_te_best_fit_20m_3', 'h_te_best_fit_20m_4', 'h_te_interp', 'h_te_std',\n",
       "       'h_te_skew', 'h_te_uncertainty', 'n_te_photons', 'subset_te_flag',\n",
       "       'h_mean_canopy', 'segment_cover', 'canopy_openness', 'pair', 'beam',\n",
       "       'p_b', 'geometry', 'date', 'region', 'E', 'N', 'z'],\n",
       "      dtype='object')"
      ]
     },
     "execution_count": 13,
     "metadata": {},
     "output_type": "execute_result"
    }
   ],
   "source": [
    "df_ref.columns"
   ]
  },
  {
   "cell_type": "code",
   "execution_count": 9,
   "metadata": {},
   "outputs": [
    {
     "name": "stdout",
     "output_type": "stream",
     "text": [
      "Warning: There is no curvature in dataframe. Set mask_highcurv = True for more robust results and costs more time\n",
      "Running Gradient Descending Coreg - Zhihao (in preparation) \n",
      "Running on downsampling. The length of the gdf: 4687\n",
      "   Statistics on initial dh:\n",
      "      Median = 30.2546 - NMAD = 5.0038\n",
      "minimization starting\n",
      "args ()\n",
      "errorcontrol False\n",
      "paired True\n",
      "nit 1, Delta 2\n",
      "[-2.  0.]\n",
      "nit 2, Delta 2\n",
      "nit 3, Delta 1\n",
      "[-1.  0.]\n",
      "nit 4, Delta 1\n",
      "nit 5, Delta 0.5\n",
      "[-1.   0.5]\n",
      "nit 6, Delta 0.5\n",
      "nit 7, Delta 0.25\n",
      "[-1.    0.25]\n",
      "nit 8, Delta 0.25\n",
      "nit 9, Delta 0.125\n",
      "[-1.     0.375]\n",
      "[-1.125  0.375]\n",
      "nit 10, Delta 0.125\n",
      "nit 11, Delta 0.0625\n",
      "[-1.125   0.3125]\n",
      "[-1.0625  0.3125]\n",
      "nit 12, Delta 0.0625\n",
      "[-1.0625  0.25  ]\n",
      "nit 13, Delta 0.0625\n",
      "nit 14, Delta 0.03125\n",
      "[-1.0625   0.28125]\n",
      "nit 15, Delta 0.03125\n",
      "nit 16, Delta 0.015625\n",
      "[-1.078125  0.28125 ]\n",
      "nit 17, Delta 0.015625\n",
      "nit 18, Delta 0.004\n",
      "[-1.078125  0.27725 ]\n",
      "nit 19, Delta 0.004\n",
      " message: convergence within deltatol\n",
      " success: True\n",
      "     fun: 18.97158502292633\n",
      "       x: [-1.078e+00  2.772e-01]\n",
      "     nit: 19\n",
      "    nfev: 42\n",
      "    free: [False False]\n",
      "\n",
      "   Final offset in pixels (east, north) : (-1.078125, 0.277250)\n",
      "   Statistics on coregistered dh:\n",
      "      Median = 29.8942 - NMAD = 2.7654\n"
     ]
    },
    {
     "data": {
      "text/plain": [
       "<xdem.coreg.GradientDescending at 0x13ba5653ac0>"
      ]
     },
     "execution_count": 9,
     "metadata": {},
     "output_type": "execute_result"
    }
   ],
   "source": [
    "gds = xdem.coreg.GradientDescending(downsampling=6000)\n",
    "gds.fit_pts(df_ref, longyearbyen.tba, inlier_mask=longyearbyen.inlier_mask,verbose=True,weights='subset_te_flag')"
   ]
  },
  {
   "cell_type": "code",
   "execution_count": 12,
   "metadata": {},
   "outputs": [
    {
     "name": "stdout",
     "output_type": "stream",
     "text": [
      "Warning: There is no curvature in dataframe. Set mask_highcurv = True for more robust results and costs more time\n",
      "Running Gradient Descending Coreg - Zhihao (in preparation) \n",
      "Running on downsampling. The length of the gdf: 4687\n",
      "   Statistics on initial dh:\n",
      "      Median = 32.3379 - NMAD = 2.3458\n",
      "minimization starting\n",
      "args ()\n",
      "errorcontrol False\n",
      "paired True\n",
      "nit 1, Delta 2\n",
      "nit 2, Delta 1\n",
      "[-1.  0.]\n",
      "nit 3, Delta 1\n",
      "nit 4, Delta 0.5\n",
      "[-1.   0.5]\n",
      "[-0.5  0.5]\n",
      "nit 5, Delta 0.5\n",
      "nit 6, Delta 0.25\n",
      "nit 7, Delta 0.125\n",
      "[-0.5    0.375]\n",
      "nit 8, Delta 0.125\n",
      "nit 9, Delta 0.0625\n",
      "nit 10, Delta 0.03125\n",
      "[-0.53125  0.375  ]\n",
      "nit 11, Delta 0.03125\n",
      "nit 12, Delta 0.015625\n",
      "[-0.53125   0.390625]\n",
      "nit 13, Delta 0.015625\n",
      "nit 14, Delta 0.004\n",
      "[-0.52725   0.390625]\n",
      "nit 15, Delta 0.004\n",
      " message: convergence within deltatol\n",
      " success: True\n",
      "     fun: 1.212202409362793\n",
      "       x: [-5.272e-01  3.906e-01]\n",
      "     nit: 15\n",
      "    nfev: 38\n",
      "    free: [False False]\n",
      "\n",
      "   Final offset in pixels (east, north) : (-0.527250, 0.390625)\n",
      "   Statistics on coregistered dh:\n",
      "      Median = 32.0855 - NMAD = 1.2122\n"
     ]
    },
    {
     "data": {
      "text/plain": [
       "<xdem.coreg.GradientDescending at 0x13ba5653ac0>"
      ]
     },
     "execution_count": 12,
     "metadata": {},
     "output_type": "execute_result"
    }
   ],
   "source": [
    "gds.fit_pts(df_ref, longyearbyen.ref, inlier_mask=longyearbyen.inlier_mask,verbose=True)"
   ]
  },
  {
   "cell_type": "markdown",
   "metadata": {},
   "source": [
    "## ICESat-2 case\n",
    "\n",
    "Has been validated over large dataset. More info is coming soon."
   ]
  },
  {
   "cell_type": "code",
   "execution_count": 6,
   "metadata": {},
   "outputs": [],
   "source": [
    "import pandas as pd\n",
    "import xdem\n",
    "sf_df = pd.read_csv('./examples/data/ICESat2/icesat_2_snowfree_qc.csv', encoding='utf-8')\n",
    "dtm_10 = xdem.DEM('./examples/data/ICESat2/dtm_10_snowfree.tif')"
   ]
  },
  {
   "cell_type": "code",
   "execution_count": 7,
   "metadata": {},
   "outputs": [
    {
     "data": {
      "text/plain": [
       "Index(['Unnamed: 0', 'delta_time', 'latitude', 'longitude', 'dem_h',\n",
       "       'segment_landcover', 'segment_watermask', 'segment_snowcover',\n",
       "       'terrain_flg', 'h_te_best_fit', 'h_te_mean', 'h_te_min', 'h_te_max',\n",
       "       'h_te_mode', 'h_te_median', 'h_te_interp', 'h_te_skew', 'h_te_std',\n",
       "       'h_te_uncertainty', 'n_te_photons', 'terrain_slope', 'subset_te_flag',\n",
       "       'h_mean_canopy', 'segment_cover', 'pair', 'beam', 'p_b', 'geometry',\n",
       "       'date', 'region', 'E', 'N', 'z'],\n",
       "      dtype='object')"
      ]
     },
     "execution_count": 7,
     "metadata": {},
     "output_type": "execute_result"
    }
   ],
   "source": [
    "sf_df.columns"
   ]
  },
  {
   "cell_type": "code",
   "execution_count": 8,
   "metadata": {},
   "outputs": [
    {
     "name": "stdout",
     "output_type": "stream",
     "text": [
      "Warning: There is no curvature in dataframe. Set mask_highcurv = True for more robust results and costs more time\n",
      "Running Gradient Descending Coreg - Zhihao (in preparation) \n",
      "Running on downsampling. The length of the gdf: 6000\n",
      "Set downsampling = other value or None to make a change.\n",
      "   Statistics on initial dh:\n",
      "      Median = 0.1403 - NMAD = 0.4570\n",
      "minimization starting\n",
      "args ()\n",
      "errorcontrol False\n",
      "paired True\n",
      "nit 1, Delta 2\n",
      "nit 2, Delta 1\n",
      "nit 3, Delta 0.5\n",
      "[-0.5  0. ]\n",
      "[-0.5  0.5]\n",
      "nit 4, Delta 0.5\n",
      "nit 5, Delta 0.25\n",
      "nit 6, Delta 0.125\n",
      "[-0.5    0.375]\n",
      "nit 7, Delta 0.125\n",
      "nit 8, Delta 0.0625\n",
      "nit 9, Delta 0.03125\n",
      "[-0.5      0.40625]\n",
      "nit 10, Delta 0.03125\n",
      "nit 11, Delta 0.015625\n",
      "[-0.5       0.390625]\n",
      "nit 12, Delta 0.015625\n",
      "nit 13, Delta 0.004\n",
      "[-0.5       0.386625]\n",
      "nit 14, Delta 0.004\n",
      " message: convergence within deltatol\n",
      " success: True\n",
      "     fun: 0.32817591705326477\n",
      "       x: [-5.000e-01  3.866e-01]\n",
      "     nit: 14\n",
      "    nfev: 42\n",
      "    free: [False False]\n",
      "\n",
      "   Final offset in pixels (east, north) : (-0.500000, 0.386625)\n",
      "   Statistics on coregistered dh:\n",
      "      Median = 0.1393 - NMAD = 0.3282\n"
     ]
    },
    {
     "data": {
      "text/plain": [
       "<xdem.coreg.GradientDescending at 0x24331032c50>"
      ]
     },
     "execution_count": 8,
     "metadata": {},
     "output_type": "execute_result"
    }
   ],
   "source": [
    "func = xdem.coreg.GradientDescending()\n",
    "func.fit_pts(sf_df,dtm_10,verbose=True)"
   ]
  }
 ],
 "metadata": {
  "kernelspec": {
   "display_name": "Python 3.10.8 ('xdem')",
   "language": "python",
   "name": "python3"
  },
  "language_info": {
   "codemirror_mode": {
    "name": "ipython",
    "version": 3
   },
   "file_extension": ".py",
   "mimetype": "text/x-python",
   "name": "python",
   "nbconvert_exporter": "python",
   "pygments_lexer": "ipython3",
   "version": "3.10.8"
  },
  "orig_nbformat": 4,
  "vscode": {
   "interpreter": {
    "hash": "a4eb659f344eb464b988a9700403a5ccc4291f74494716d5f9149c713168e3aa"
   }
  }
 },
 "nbformat": 4,
 "nbformat_minor": 2
}
