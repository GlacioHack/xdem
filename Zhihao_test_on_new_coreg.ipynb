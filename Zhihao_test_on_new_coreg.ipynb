{
 "cells": [
  {
   "cell_type": "markdown",
   "metadata": {},
   "source": [
    "## An Enhenced-NuthKaab Coreg\n",
    "\n",
    "I introduce an enhanced version of the NuthKaab Coreg method: GradientDescending Coreg. It offers faster performance on high resolution DEMs, improved accuracy, and support for point-DEM coregistration such as ICESat-2 measurements. \n",
    "\n",
    "However, it should be noted that this method is still under development and further testing is required before it can be used in academic projects."
   ]
  },
  {
   "cell_type": "markdown",
   "metadata": {},
   "source": [
    "### Longyearbyen DEM 1990 and DEM 2009 in 20 m resolution.\n",
    "\n",
    "Cross-validation between GradientDescending Coreg and NuthKaab:\n",
    "- (1) Coreg by NuthKaab\n",
    "- (2) Coreg by GradientDescending\n",
    "- (3) Coreg by NuthKaab on the shifted DEM by GradientDescending\n",
    "- (3) Coreg by GradientDescending on the shifted DEM by NuthKaab\n",
    "\n",
    "\n"
   ]
  },
  {
   "cell_type": "code",
   "execution_count": 1,
   "metadata": {},
   "outputs": [],
   "source": [
    "from tests.test_coreg import TestCoregClass\n",
    "longyearbyen = TestCoregClass()\n"
   ]
  },
  {
   "cell_type": "code",
   "execution_count": 2,
   "metadata": {},
   "outputs": [
    {
     "name": "stdout",
     "output_type": "stream",
     "text": [
      "Running Nuth and Kääb (2011) coregistration\n",
      "   Calculate slope and aspect\n",
      "   Statistics on initial dh:\n",
      "      Median = -2.3340 - NMAD = 3.4173\n",
      "   Iteratively estimating horizontal shit:\n"
     ]
    },
    {
     "name": "stderr",
     "output_type": "stream",
     "text": [
      "   Progress:   0%|          | 0/10 [00:00<?, ?it/s]"
     ]
    },
    {
     "name": "stdout",
     "output_type": "stream",
     "text": [
      "      #1 - Offset in pixels : (-0.44, -0.15)\n"
     ]
    },
    {
     "name": "stderr",
     "output_type": "stream",
     "text": [
      "   Progress:  10%|█         | 1/10 [00:00<00:06,  1.45it/s]"
     ]
    },
    {
     "name": "stdout",
     "output_type": "stream",
     "text": [
      "      Median = -1.9875 - NMAD = 2.5130  ==>  Gain = -26.46%\n"
     ]
    },
    {
     "name": "stderr",
     "output_type": "stream",
     "text": [
      "   Progress:  10%|█         | 1/10 [00:01<00:06,  1.45it/s]"
     ]
    },
    {
     "name": "stdout",
     "output_type": "stream",
     "text": [
      "      #2 - Offset in pixels : (-0.03, 0.01)\n"
     ]
    },
    {
     "name": "stderr",
     "output_type": "stream",
     "text": [
      "   Progress:  20%|██        | 2/10 [00:01<00:05,  1.37it/s]"
     ]
    },
    {
     "name": "stdout",
     "output_type": "stream",
     "text": [
      "      Median = -1.9815 - NMAD = 2.4989  ==>  Gain = -0.56%\n"
     ]
    },
    {
     "name": "stderr",
     "output_type": "stream",
     "text": [
      "                                                           \r"
     ]
    },
    {
     "name": "stdout",
     "output_type": "stream",
     "text": [
      "      #3 - Offset in pixels : (-0.00, 0.00)\n"
     ]
    },
    {
     "name": "stderr",
     "output_type": "stream",
     "text": [
      "   Progress:  20%|██        | 2/10 [00:02<00:08,  1.10s/it]"
     ]
    },
    {
     "name": "stdout",
     "output_type": "stream",
     "text": [
      "      Median = -1.9815 - NMAD = 2.4989  ==>  Gain = 0.00%\n",
      "   Last offset was below the residual offset threshold of 0.05 -> stopping\n",
      "\n",
      "   Final offset in pixels (east, north) : (-0.462557, -0.136185)\n",
      "   Statistics on coregistered dh:\n",
      "      Median = -1.9815 - NMAD = 2.4989\n"
     ]
    },
    {
     "name": "stderr",
     "output_type": "stream",
     "text": [
      "\n"
     ]
    }
   ],
   "source": [
    "# (1) The original test case of NuthKaab coreg\n",
    "longyearbyen.test_coreg_example(verbose=True)"
   ]
  },
  {
   "cell_type": "code",
   "execution_count": 3,
   "metadata": {},
   "outputs": [
    {
     "name": "stdout",
     "output_type": "stream",
     "text": [
      "Running Gradient Descending Coreg - Zhihao (in preparation) \n",
      "Running on downsampling. The length of the gdf: 6964\n",
      "Set downsampling = other value or None to make a change.\n",
      "   Statistics on initial dh:\n",
      "      Median = -2.2909 - NMAD = 3.3842\n",
      "minimization starting\n",
      "args ()\n",
      "errorcontrol False\n",
      "paired True\n",
      "nit 1, Delta 2\n",
      "nit 2, Delta 1\n",
      "nit 3, Delta 0.5\n",
      "[-0.5  0. ]\n",
      "nit 4, Delta 0.5\n",
      "nit 5, Delta 0.25\n",
      "[-0.5  -0.25]\n",
      "nit 6, Delta 0.25\n",
      "nit 7, Delta 0.125\n",
      "[-0.5   -0.125]\n",
      "nit 8, Delta 0.125\n",
      "nit 9, Delta 0.0625\n",
      "nit 10, Delta 0.03125\n",
      "[-0.46875 -0.125  ]\n",
      "nit 11, Delta 0.03125\n",
      "nit 12, Delta 0.015625\n",
      "[-0.46875  -0.109375]\n",
      "nit 13, Delta 0.015625\n",
      "nit 14, Delta 0.004\n",
      "mid [-0.46875  -0.111375]\n",
      "[-0.47075  -0.111375]\n",
      "[-0.47075  -0.109375]\n",
      "nit 15, Delta 0.004\n",
      "    free: array([False, False])\n",
      "     fun: 2.495011618995666\n",
      " message: 'convergence within deltatol'\n",
      "    nfev: 41\n",
      "     nit: 15\n",
      " success: True\n",
      "       x: array([-0.47075 , -0.109375])\n",
      "\n",
      "   Final offset in pixels (east, north) : (-0.470750, -0.109375)\n",
      "   Statistics on coregistered dh:\n",
      "      Median = -2.0058 - NMAD = 2.4950\n"
     ]
    }
   ],
   "source": [
    "# (2) The new test case of GradientDescending coreg\n",
    "\n",
    "longyearbyen.test_coreg_example_gradiendescending(verbose=True,downsampling=8000)"
   ]
  },
  {
   "cell_type": "code",
   "execution_count": 4,
   "metadata": {},
   "outputs": [
    {
     "name": "stdout",
     "output_type": "stream",
     "text": [
      "Running Nuth and Kääb (2011) coregistration\n",
      "   Calculate slope and aspect\n",
      "   Statistics on initial dh:\n",
      "      Median = -1.9348 - NMAD = 2.4922\n",
      "   Iteratively estimating horizontal shit:\n"
     ]
    },
    {
     "name": "stderr",
     "output_type": "stream",
     "text": [
      "   Progress:  10%|█         | 1/10 [00:00<00:06,  1.47it/s]"
     ]
    },
    {
     "name": "stdout",
     "output_type": "stream",
     "text": [
      "      #1 - Offset in pixels : (0.08, 0.01)\n",
      "      Median = -1.9855 - NMAD = 2.4974  ==>  Gain = 0.21%\n"
     ]
    },
    {
     "name": "stderr",
     "output_type": "stream",
     "text": [
      "   Progress:  10%|█         | 1/10 [00:01<00:06,  1.47it/s]"
     ]
    },
    {
     "name": "stdout",
     "output_type": "stream",
     "text": [
      "      #2 - Offset in pixels : (0.00, -0.00)\n"
     ]
    },
    {
     "name": "stderr",
     "output_type": "stream",
     "text": [
      "   Progress:  20%|██        | 2/10 [00:01<00:05,  1.36it/s]"
     ]
    },
    {
     "name": "stdout",
     "output_type": "stream",
     "text": [
      "      Median = -1.9855 - NMAD = 2.4974  ==>  Gain = 0.00%\n"
     ]
    },
    {
     "name": "stderr",
     "output_type": "stream",
     "text": [
      "   Progress:  20%|██        | 2/10 [00:02<00:05,  1.36it/s]"
     ]
    },
    {
     "name": "stdout",
     "output_type": "stream",
     "text": [
      "      #3 - Offset in pixels : (0.00, -0.00)\n"
     ]
    },
    {
     "name": "stderr",
     "output_type": "stream",
     "text": [
      "   Progress:  20%|██        | 2/10 [00:02<00:08,  1.11s/it]"
     ]
    },
    {
     "name": "stdout",
     "output_type": "stream",
     "text": [
      "      Median = -1.9855 - NMAD = 2.4974  ==>  Gain = 0.00%\n",
      "   Last offset was below the residual offset threshold of 0.05 -> stopping\n",
      "\n",
      "   Final offset in pixels (east, north) : (0.079509, 0.008846)\n",
      "   Statistics on coregistered dh:\n",
      "      Median = -1.9855 - NMAD = 2.4974\n"
     ]
    },
    {
     "name": "stderr",
     "output_type": "stream",
     "text": [
      "\n"
     ]
    }
   ],
   "source": [
    "# (3) shift ref_dem by the resutls from GradientDescending coreg, and than do NuthKaab again. \n",
    "# Most of time, NuthKaab cannot improve more.\n",
    "longyearbyen.test_coreg_example_shift_test((-0.542875, -0.140625),verbose=True,coreg='NuthKaab')\n",
    "\n"
   ]
  },
  {
   "cell_type": "code",
   "execution_count": 5,
   "metadata": {},
   "outputs": [
    {
     "name": "stdout",
     "output_type": "stream",
     "text": [
      "Running Gradient Descending Coreg - Zhihao (in preparation) \n",
      "Running on downsampling. The length of the gdf: 5241\n",
      "Set downsampling = other value or None to make a change.\n",
      "   Statistics on initial dh:\n",
      "      Median = -1.9973 - NMAD = 2.5194\n",
      "minimization starting\n",
      "args ()\n",
      "errorcontrol False\n",
      "paired True\n",
      "nit 1, Delta 2\n",
      "nit 2, Delta 1\n",
      "nit 3, Delta 0.5\n",
      "nit 4, Delta 0.25\n",
      "nit 5, Delta 0.125\n",
      "[-0.125  0.   ]\n",
      "nit 6, Delta 0.125\n",
      "nit 7, Delta 0.0625\n",
      "[-0.0625  0.    ]\n",
      "nit 8, Delta 0.0625\n",
      "nit 9, Delta 0.03125\n",
      "[-0.09375  0.     ]\n",
      "[-0.09375 -0.03125]\n",
      "nit 10, Delta 0.03125\n",
      "nit 11, Delta 0.015625\n",
      "[-0.09375  -0.015625]\n",
      "nit 12, Delta 0.015625\n",
      "nit 13, Delta 0.004\n",
      "    free: array([False, False])\n",
      "     fun: 2.4898974792480466\n",
      " message: 'convergence within deltatol'\n",
      "    nfev: 40\n",
      "     nit: 13\n",
      " success: True\n",
      "       x: array([-0.09375 , -0.015625])\n",
      "\n",
      "   Final offset in pixels (east, north) : (-0.093750, -0.015625)\n",
      "   Statistics on coregistered dh:\n",
      "      Median = -1.9286 - NMAD = 2.4899\n"
     ]
    }
   ],
   "source": [
    "# (4) shift ref_dem by the resutls from NuthKaab coreg, and than do GradientDescending again. \n",
    "# GradientDescending can always get some improve, but it is based on downsampling dataset.\n",
    "\n",
    "longyearbyen.test_coreg_example_shift_test((-0.462557, -0.136185),verbose=True,coreg='GradientDescending')"
   ]
  },
  {
   "cell_type": "markdown",
   "metadata": {},
   "source": [
    "## ICESat-2 case\n",
    "\n",
    "Has been validated over large dataset. More info is coming soon."
   ]
  },
  {
   "cell_type": "code",
   "execution_count": 6,
   "metadata": {},
   "outputs": [],
   "source": [
    "import pandas as pd\n",
    "import xdem\n",
    "sf_df = pd.read_csv('./examples/data/ICESat2/icesat_2_snowfree_qc.csv', encoding='utf-8')\n",
    "dtm_10 = xdem.DEM('./examples/data/ICESat2/dtm_10_snowfree.tif')"
   ]
  },
  {
   "cell_type": "code",
   "execution_count": 7,
   "metadata": {},
   "outputs": [
    {
     "data": {
      "text/plain": [
       "Index(['Unnamed: 0', 'delta_time', 'latitude', 'longitude', 'dem_h',\n",
       "       'segment_landcover', 'segment_watermask', 'segment_snowcover',\n",
       "       'terrain_flg', 'h_te_best_fit', 'h_te_mean', 'h_te_min', 'h_te_max',\n",
       "       'h_te_mode', 'h_te_median', 'h_te_interp', 'h_te_skew', 'h_te_std',\n",
       "       'h_te_uncertainty', 'n_te_photons', 'terrain_slope', 'subset_te_flag',\n",
       "       'h_mean_canopy', 'segment_cover', 'pair', 'beam', 'p_b', 'geometry',\n",
       "       'date', 'region', 'E', 'N', 'z'],\n",
       "      dtype='object')"
      ]
     },
     "execution_count": 7,
     "metadata": {},
     "output_type": "execute_result"
    }
   ],
   "source": [
    "sf_df.columns"
   ]
  },
  {
   "cell_type": "code",
   "execution_count": 8,
   "metadata": {},
   "outputs": [
    {
     "name": "stdout",
     "output_type": "stream",
     "text": [
      "Running Gradient Decending Coreg - Zhihao (in preparation) \n",
      "Running on downsampling. The length of the gdf: 6000\n",
      "Set downsampling = other value or None to make a change.\n",
      "   Statistics on initial dh:\n",
      "      Median = 0.1403 - NMAD = 0.4570\n",
      "minimization starting\n",
      "args ()\n",
      "errorcontrol False\n",
      "paired True\n",
      "nit 1, Delta 2\n",
      "nit 2, Delta 1\n",
      "nit 3, Delta 0.5\n",
      "[-0.5  0. ]\n",
      "[-0.5  0.5]\n",
      "nit 4, Delta 0.5\n",
      "nit 5, Delta 0.25\n",
      "nit 6, Delta 0.125\n",
      "[-0.5    0.375]\n",
      "nit 7, Delta 0.125\n",
      "nit 8, Delta 0.0625\n",
      "nit 9, Delta 0.03125\n",
      "[-0.5      0.40625]\n",
      "nit 10, Delta 0.03125\n",
      "nit 11, Delta 0.015625\n",
      "[-0.5       0.390625]\n",
      "nit 12, Delta 0.015625\n",
      "nit 13, Delta 0.004\n",
      "[-0.5       0.386625]\n",
      "nit 14, Delta 0.004\n",
      " message: convergence within deltatol\n",
      " success: True\n",
      "     fun: 0.32817591705326477\n",
      "       x: [-5.000e-01  3.866e-01]\n",
      "     nit: 14\n",
      "    nfev: 41\n",
      "    free: [False False]\n",
      "\n",
      "   Final offset in pixels (east, north) : (-0.500000, 0.386625)\n",
      "   Statistics on coregistered dh:\n",
      "      Median = 0.1393 - NMAD = 0.3282\n"
     ]
    },
    {
     "data": {
      "text/plain": [
       "<xdem.coreg.GradientDescending at 0x2a3391a9810>"
      ]
     },
     "execution_count": 8,
     "metadata": {},
     "output_type": "execute_result"
    }
   ],
   "source": [
    "func = xdem.coreg.GradientDescending(z_name='z')\n",
    "func.fit(sf_df,dtm_10,verbose=True)"
   ]
  }
 ],
 "metadata": {
  "kernelspec": {
   "display_name": "Python 3.10.8 ('xdem')",
   "language": "python",
   "name": "python3"
  },
  "language_info": {
   "codemirror_mode": {
    "name": "ipython",
    "version": 3
   },
   "file_extension": ".py",
   "mimetype": "text/x-python",
   "name": "python",
   "nbconvert_exporter": "python",
   "pygments_lexer": "ipython3",
   "version": "3.9.12"
  },
  "orig_nbformat": 4,
  "vscode": {
   "interpreter": {
    "hash": "a4eb659f344eb464b988a9700403a5ccc4291f74494716d5f9149c713168e3aa"
   }
  }
 },
 "nbformat": 4,
 "nbformat_minor": 2
}
