{
 "cells": [
  {
   "cell_type": "markdown",
   "metadata": {},
   "source": [
    "## An Enhenced-NuthKaab Coreg\n",
    "\n",
    "I introduce an enhanced version of the NuthKaab Coreg method: GradientDescending Coreg. It offers faster performance on high resolution DEMs, improved accuracy, and support for point-DEM coregistration such as ICESat-2 measurements. \n",
    "\n",
    "However, it should be noted that this method is still under development and further testing is required before it can be used in academic projects."
   ]
  },
  {
   "cell_type": "markdown",
   "metadata": {},
   "source": [
    "### Longyearbyen DEM 1990 and DEM 2009 in 20 m resolution.\n",
    "\n",
    "Cross-validation between GradientDescending Coreg and NuthKaab:\n",
    "- (1) Coreg by NuthKaab\n",
    "- (2) Coreg by GradientDescending\n",
    "- (3) Coreg by NuthKaab on the shifted DEM by GradientDescending\n",
    "- (3) Coreg by GradientDescending on the shifted DEM by NuthKaab\n",
    "\n",
    "\n"
   ]
  },
  {
   "cell_type": "code",
   "execution_count": 7,
   "metadata": {},
   "outputs": [],
   "source": [
    "from tests.test_coreg import TestCoregClass\n",
    "longyearbyen = TestCoregClass()\n"
   ]
  },
  {
   "cell_type": "code",
   "execution_count": 8,
   "metadata": {},
   "outputs": [
    {
     "name": "stdout",
     "output_type": "stream",
     "text": [
      "Running Nuth and Kääb (2011) coregistration\n",
      "   Calculate slope and aspect\n",
      "   Statistics on initial dh:\n",
      "      Median = -2.3340 - NMAD = 3.4173\n",
      "   Iteratively estimating horizontal shit:\n"
     ]
    },
    {
     "name": "stderr",
     "output_type": "stream",
     "text": [
      "   Progress:   0%|          | 0/10 [00:00<?, ?it/s]"
     ]
    },
    {
     "name": "stdout",
     "output_type": "stream",
     "text": [
      "      #1 - Offset in pixels : (-0.44, -0.15)\n"
     ]
    },
    {
     "name": "stderr",
     "output_type": "stream",
     "text": [
      "   Progress:  10%|█         | 1/10 [00:00<00:06,  1.35it/s]"
     ]
    },
    {
     "name": "stdout",
     "output_type": "stream",
     "text": [
      "      Median = -1.9875 - NMAD = 2.5130  ==>  Gain = -26.46%\n"
     ]
    },
    {
     "name": "stderr",
     "output_type": "stream",
     "text": [
      "   Progress:  10%|█         | 1/10 [00:01<00:06,  1.35it/s]"
     ]
    },
    {
     "name": "stdout",
     "output_type": "stream",
     "text": [
      "      #2 - Offset in pixels : (-0.03, 0.01)\n"
     ]
    },
    {
     "name": "stderr",
     "output_type": "stream",
     "text": [
      "   Progress:  20%|██        | 2/10 [00:01<00:06,  1.29it/s]"
     ]
    },
    {
     "name": "stdout",
     "output_type": "stream",
     "text": [
      "      Median = -1.9815 - NMAD = 2.4989  ==>  Gain = -0.56%\n"
     ]
    },
    {
     "name": "stderr",
     "output_type": "stream",
     "text": [
      "   Progress:  20%|██        | 2/10 [00:02<00:06,  1.29it/s]"
     ]
    },
    {
     "name": "stdout",
     "output_type": "stream",
     "text": [
      "      #3 - Offset in pixels : (-0.00, 0.00)\n"
     ]
    },
    {
     "name": "stderr",
     "output_type": "stream",
     "text": [
      "   Progress:  20%|██        | 2/10 [00:02<00:09,  1.15s/it]"
     ]
    },
    {
     "name": "stdout",
     "output_type": "stream",
     "text": [
      "      Median = -1.9815 - NMAD = 2.4989  ==>  Gain = 0.00%\n",
      "   Last offset was below the residual offset threshold of 0.05 -> stopping\n",
      "\n",
      "   Final offset in pixels (east, north) : (-0.462557, -0.136185)\n",
      "   Statistics on coregistered dh:\n",
      "      Median = -1.9815 - NMAD = 2.4989\n"
     ]
    },
    {
     "name": "stderr",
     "output_type": "stream",
     "text": [
      "\n"
     ]
    }
   ],
   "source": [
    "# (1) The original test case of NuthKaab coreg\n",
    "longyearbyen.test_coreg_example(verbose=True)"
   ]
  },
  {
   "cell_type": "code",
   "execution_count": 12,
   "metadata": {},
   "outputs": [
    {
     "ename": "AttributeError",
     "evalue": "'Raster' object has no attribute 'set_mask'",
     "output_type": "error",
     "traceback": [
      "\u001b[1;31m---------------------------------------------------------------------------\u001b[0m",
      "\u001b[1;31mAttributeError\u001b[0m                            Traceback (most recent call last)",
      "\u001b[1;32mc:\\Users\\zhihaol\\OneDrive - Universitetet i Oslo\\xsnow\\xdem_snow\\Zhihao_test_on_new_coreg.ipynb Cell 5'\u001b[0m in \u001b[0;36m<cell line: 3>\u001b[1;34m()\u001b[0m\n\u001b[0;32m      <a href='vscode-notebook-cell:/c%3A/Users/zhihaol/OneDrive%20-%20Universitetet%20i%20Oslo/xsnow/xdem_snow/Zhihao_test_on_new_coreg.ipynb#ch0000004?line=0'>1</a>\u001b[0m \u001b[39m# (2) The new test case of GradientDescending coreg\u001b[39;00m\n\u001b[1;32m----> <a href='vscode-notebook-cell:/c%3A/Users/zhihaol/OneDrive%20-%20Universitetet%20i%20Oslo/xsnow/xdem_snow/Zhihao_test_on_new_coreg.ipynb#ch0000004?line=2'>3</a>\u001b[0m longyearbyen\u001b[39m.\u001b[39;49mtest_coreg_example_gradiendescending(verbose\u001b[39m=\u001b[39;49m\u001b[39mTrue\u001b[39;49;00m,downsampling\u001b[39m=\u001b[39;49m\u001b[39m8000\u001b[39;49m)\n",
      "File \u001b[1;32mc:\\Users\\zhihaol\\OneDrive - Universitetet i Oslo\\xsnow\\xdem_snow\\tests\\test_coreg.py:235\u001b[0m, in \u001b[0;36mTestCoregClass.test_coreg_example_gradiendescending\u001b[1;34m(self, downsampling, inlier_mask, verbose)\u001b[0m\n\u001b[0;32m    <a href='file:///c%3A/Users/zhihaol/OneDrive%20-%20Universitetet%20i%20Oslo/xsnow/xdem_snow/tests/test_coreg.py?line=232'>233</a>\u001b[0m \u001b[39m# Run co-registration\u001b[39;00m\n\u001b[0;32m    <a href='file:///c%3A/Users/zhihaol/OneDrive%20-%20Universitetet%20i%20Oslo/xsnow/xdem_snow/tests/test_coreg.py?line=233'>234</a>\u001b[0m gds \u001b[39m=\u001b[39m xdem\u001b[39m.\u001b[39mcoreg\u001b[39m.\u001b[39mGradientDescending(downsampling\u001b[39m=\u001b[39mdownsampling)\n\u001b[1;32m--> <a href='file:///c%3A/Users/zhihaol/OneDrive%20-%20Universitetet%20i%20Oslo/xsnow/xdem_snow/tests/test_coreg.py?line=234'>235</a>\u001b[0m gds\u001b[39m.\u001b[39;49mfit(\u001b[39mself\u001b[39;49m\u001b[39m.\u001b[39;49mref, \u001b[39mself\u001b[39;49m\u001b[39m.\u001b[39;49mtba, inlier_mask\u001b[39m=\u001b[39;49minlier_mask,verbose\u001b[39m=\u001b[39;49mverbose)\n",
      "File \u001b[1;32mc:\\Users\\zhihaol\\OneDrive - Universitetet i Oslo\\xsnow\\xdem_snow\\xdem\\coreg.py:660\u001b[0m, in \u001b[0;36mfit\u001b[1;34m(self, reference_dem, dem_to_be_aligned, inlier_mask, transform, weights, subsample, verbose, random_state)\u001b[0m\n\u001b[0;32m    <a href='file:///c%3A/Users/zhihaol/OneDrive%20-%20Universitetet%20i%20Oslo/xsnow/xdem_snow/xdem/coreg.py?line=657'>658</a>\u001b[0m assert inlier_mask.dtype == bool, f\"Invalid mask dtype: '{inlier_mask.dtype}'. Expected 'bool'\"\n\u001b[0;32m    <a href='file:///c%3A/Users/zhihaol/OneDrive%20-%20Universitetet%20i%20Oslo/xsnow/xdem_snow/xdem/coreg.py?line=658'>659</a>\u001b[0m full_mask = (~tba_mask & (np.asarray(inlier_mask) if inlier_mask is not None else True)).squeeze()\n\u001b[1;32m--> <a href='file:///c%3A/Users/zhihaol/OneDrive%20-%20Universitetet%20i%20Oslo/xsnow/xdem_snow/xdem/coreg.py?line=659'>660</a>\u001b[0m dem_to_be_aligned.set_mask(~full_mask)\n\u001b[0;32m    <a href='file:///c%3A/Users/zhihaol/OneDrive%20-%20Universitetet%20i%20Oslo/xsnow/xdem_snow/xdem/coreg.py?line=660'>661</a>\u001b[0m \n\u001b[0;32m    <a href='file:///c%3A/Users/zhihaol/OneDrive%20-%20Universitetet%20i%20Oslo/xsnow/xdem_snow/xdem/coreg.py?line=661'>662</a>\u001b[0m if np.all(~inlier_mask):\n",
      "\u001b[1;31mAttributeError\u001b[0m: 'Raster' object has no attribute 'set_mask'"
     ]
    }
   ],
   "source": [
    "# (2) The new test case of GradientDescending coreg\n",
    "\n",
    "longyearbyen.test_coreg_example_gradiendescending(verbose=True,downsampling=8000)"
   ]
  },
  {
   "cell_type": "code",
   "execution_count": 9,
   "metadata": {},
   "outputs": [
    {
     "name": "stdout",
     "output_type": "stream",
     "text": [
      "Running Nuth and Kääb (2011) coregistration\n",
      "   Calculate slope and aspect\n",
      "   Statistics on initial dh:\n",
      "      Median = -1.9348 - NMAD = 2.4922\n",
      "   Iteratively estimating horizontal shit:\n"
     ]
    },
    {
     "name": "stderr",
     "output_type": "stream",
     "text": [
      "   Progress:  10%|█         | 1/10 [00:00<00:02,  3.77it/s]"
     ]
    },
    {
     "name": "stdout",
     "output_type": "stream",
     "text": [
      "      #1 - Offset in pixels : (0.08, 0.01)\n",
      "      Median = -1.9855 - NMAD = 2.4974  ==>  Gain = 0.21%\n"
     ]
    },
    {
     "name": "stderr",
     "output_type": "stream",
     "text": [
      "   Progress:  20%|██        | 2/10 [00:00<00:02,  3.66it/s]"
     ]
    },
    {
     "name": "stdout",
     "output_type": "stream",
     "text": [
      "      #2 - Offset in pixels : (0.00, -0.00)\n",
      "      Median = -1.9855 - NMAD = 2.4974  ==>  Gain = 0.00%\n"
     ]
    },
    {
     "name": "stderr",
     "output_type": "stream",
     "text": [
      "   Progress:  20%|██        | 2/10 [00:00<00:03,  2.49it/s]"
     ]
    },
    {
     "name": "stdout",
     "output_type": "stream",
     "text": [
      "      #3 - Offset in pixels : (0.00, -0.00)\n",
      "      Median = -1.9855 - NMAD = 2.4974  ==>  Gain = 0.00%\n",
      "   Last offset was below the residual offset threshold of 0.05 -> stopping\n",
      "\n",
      "   Final offset in pixels (east, north) : (0.079509, 0.008846)\n",
      "   Statistics on coregistered dh:\n",
      "      Median = -1.9855 - NMAD = 2.4974\n"
     ]
    },
    {
     "name": "stderr",
     "output_type": "stream",
     "text": [
      "\n"
     ]
    }
   ],
   "source": [
    "# (3) shift ref_dem by the resutls from GradientDescending coreg, and than do NuthKaab again. \n",
    "# Most of time, NuthKaab cannot improve more.\n",
    "longyearbyen.test_coreg_example_shift_test((-0.542875, -0.140625),verbose=True,coreg='NuthKaab')\n",
    "\n"
   ]
  },
  {
   "cell_type": "code",
   "execution_count": 5,
   "metadata": {},
   "outputs": [
    {
     "name": "stdout",
     "output_type": "stream",
     "text": [
      "Running Gradient Decending Coreg - Zhihao (in preparation) \n",
      "Running on downsampling. The length of the gdf: 5252\n",
      "Set downsampling = other value or None to make a change.\n",
      "   Statistics on initial dh:\n",
      "      Median = -1.9984 - NMAD = 2.4605\n",
      "minimization starting\n",
      "args ()\n",
      "errorcontrol False\n",
      "paired True\n",
      "nit 1, Delta 2\n",
      "nit 2, Delta 1\n",
      "nit 3, Delta 0.5\n",
      "nit 4, Delta 0.25\n",
      "nit 5, Delta 0.125\n",
      "nit 6, Delta 0.0625\n",
      "[-0.0625  0.    ]\n",
      "[-0.0625 -0.0625]\n",
      "nit 7, Delta 0.0625\n",
      "nit 8, Delta 0.03125\n",
      "[-0.0625  -0.03125]\n",
      "nit 9, Delta 0.03125\n",
      "nit 10, Delta 0.015625\n",
      "[-0.0625   -0.046875]\n",
      "nit 11, Delta 0.015625\n",
      "nit 12, Delta 0.004\n",
      " message: convergence within deltatol\n",
      " success: True\n",
      "     fun: 2.4101185958862303\n",
      "       x: [-6.250e-02 -4.688e-02]\n",
      "     nit: 12\n",
      "    nfev: 39\n",
      "    free: [False False]\n",
      "\n",
      "   Final offset in pixels (east, north) : (-0.062500, -0.046875)\n",
      "   Statistics on coregistered dh:\n",
      "      Median = -1.8755 - NMAD = 2.4101\n"
     ]
    }
   ],
   "source": [
    "# (4) shift ref_dem by the resutls from NuthKaab coreg, and than do GradientDescending again. \n",
    "# GradientDescending can always get some improve, but it is based on downsampling dataset.\n",
    "\n",
    "longyearbyen.test_coreg_example_shift_test((-0.462557, -0.136185),verbose=True,coreg='GradientDescending')"
   ]
  },
  {
   "cell_type": "markdown",
   "metadata": {},
   "source": [
    "## ICESat-2 case\n",
    "\n",
    "Has been validated over large dataset. More info is coming soon."
   ]
  },
  {
   "cell_type": "code",
   "execution_count": 6,
   "metadata": {},
   "outputs": [],
   "source": [
    "import pandas as pd\n",
    "import xdem\n",
    "sf_df = pd.read_csv('./examples/data/ICESat2/icesat_2_snowfree_qc.csv', encoding='utf-8')\n",
    "dtm_10 = xdem.DEM('./examples/data/ICESat2/dtm_10_snowfree.tif')"
   ]
  },
  {
   "cell_type": "code",
   "execution_count": 7,
   "metadata": {},
   "outputs": [
    {
     "data": {
      "text/plain": [
       "Index(['Unnamed: 0', 'delta_time', 'latitude', 'longitude', 'dem_h',\n",
       "       'segment_landcover', 'segment_watermask', 'segment_snowcover',\n",
       "       'terrain_flg', 'h_te_best_fit', 'h_te_mean', 'h_te_min', 'h_te_max',\n",
       "       'h_te_mode', 'h_te_median', 'h_te_interp', 'h_te_skew', 'h_te_std',\n",
       "       'h_te_uncertainty', 'n_te_photons', 'terrain_slope', 'subset_te_flag',\n",
       "       'h_mean_canopy', 'segment_cover', 'pair', 'beam', 'p_b', 'geometry',\n",
       "       'date', 'region', 'E', 'N', 'z'],\n",
       "      dtype='object')"
      ]
     },
     "execution_count": 7,
     "metadata": {},
     "output_type": "execute_result"
    }
   ],
   "source": [
    "sf_df.columns"
   ]
  },
  {
   "cell_type": "code",
   "execution_count": 8,
   "metadata": {},
   "outputs": [
    {
     "name": "stdout",
     "output_type": "stream",
     "text": [
      "Running Gradient Decending Coreg - Zhihao (in preparation) \n",
      "Running on downsampling. The length of the gdf: 6000\n",
      "Set downsampling = other value or None to make a change.\n",
      "   Statistics on initial dh:\n",
      "      Median = 0.1403 - NMAD = 0.4570\n",
      "minimization starting\n",
      "args ()\n",
      "errorcontrol False\n",
      "paired True\n",
      "nit 1, Delta 2\n",
      "nit 2, Delta 1\n",
      "nit 3, Delta 0.5\n",
      "[-0.5  0. ]\n",
      "[-0.5  0.5]\n",
      "nit 4, Delta 0.5\n",
      "nit 5, Delta 0.25\n",
      "nit 6, Delta 0.125\n",
      "[-0.5    0.375]\n",
      "nit 7, Delta 0.125\n",
      "nit 8, Delta 0.0625\n",
      "nit 9, Delta 0.03125\n",
      "[-0.5      0.40625]\n",
      "nit 10, Delta 0.03125\n",
      "nit 11, Delta 0.015625\n",
      "[-0.5       0.390625]\n",
      "nit 12, Delta 0.015625\n",
      "nit 13, Delta 0.004\n",
      "[-0.5       0.386625]\n",
      "nit 14, Delta 0.004\n",
      " message: convergence within deltatol\n",
      " success: True\n",
      "     fun: 0.32817591705326477\n",
      "       x: [-5.000e-01  3.866e-01]\n",
      "     nit: 14\n",
      "    nfev: 41\n",
      "    free: [False False]\n",
      "\n",
      "   Final offset in pixels (east, north) : (-0.500000, 0.386625)\n",
      "   Statistics on coregistered dh:\n",
      "      Median = 0.1393 - NMAD = 0.3282\n"
     ]
    },
    {
     "data": {
      "text/plain": [
       "<xdem.coreg.GradientDescending at 0x2a3391a9810>"
      ]
     },
     "execution_count": 8,
     "metadata": {},
     "output_type": "execute_result"
    }
   ],
   "source": [
    "func = xdem.coreg.GradientDescending(z_name='z')\n",
    "func.fit(sf_df,dtm_10,verbose=True)"
   ]
  }
 ],
 "metadata": {
  "kernelspec": {
   "display_name": "Python 3.10.8 ('xdem')",
   "language": "python",
   "name": "python3"
  },
  "language_info": {
   "codemirror_mode": {
    "name": "ipython",
    "version": 3
   },
   "file_extension": ".py",
   "mimetype": "text/x-python",
   "name": "python",
   "nbconvert_exporter": "python",
   "pygments_lexer": "ipython3",
   "version": "3.9.12"
  },
  "orig_nbformat": 4,
  "vscode": {
   "interpreter": {
    "hash": "a4eb659f344eb464b988a9700403a5ccc4291f74494716d5f9149c713168e3aa"
   }
  }
 },
 "nbformat": 4,
 "nbformat_minor": 2
}
