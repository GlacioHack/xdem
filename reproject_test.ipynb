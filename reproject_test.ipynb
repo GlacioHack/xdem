{
 "cells": [
  {
   "cell_type": "code",
   "execution_count": null,
   "metadata": {},
   "outputs": [],
   "source": [
    "C:\\Users\\ZOZN109\\Downloads\\N62E010_FABDEM_V1-0.tif"
   ]
  },
  {
   "cell_type": "code",
   "execution_count": 17,
   "metadata": {},
   "outputs": [
    {
     "ename": "AttributeError",
     "evalue": "'DEM' object has no attribute 'nbands'",
     "output_type": "error",
     "traceback": [
      "\u001b[1;31m---------------------------------------------------------------------------\u001b[0m",
      "\u001b[1;31mAttributeError\u001b[0m                            Traceback (most recent call last)",
      "Cell \u001b[1;32mIn[17], line 7\u001b[0m\n\u001b[0;32m      3\u001b[0m \u001b[38;5;28;01mimport\u001b[39;00m \u001b[38;5;21;01mpyproj\u001b[39;00m\n\u001b[0;32m      5\u001b[0m fid_fab \u001b[38;5;241m=\u001b[39m \u001b[38;5;124mr\u001b[39m\u001b[38;5;124m'\u001b[39m\u001b[38;5;124mC:\u001b[39m\u001b[38;5;124m\\\u001b[39m\u001b[38;5;124mUsers\u001b[39m\u001b[38;5;124m\\\u001b[39m\u001b[38;5;124mZOZN109\u001b[39m\u001b[38;5;124m\\\u001b[39m\u001b[38;5;124mOneDrive - Universitetet i Oslo\u001b[39m\u001b[38;5;124m\\\u001b[39m\u001b[38;5;124mDesktop\u001b[39m\u001b[38;5;124m\\\u001b[39m\u001b[38;5;124mN62E010_FABDEM_V1-0.tif\u001b[39m\u001b[38;5;124m'\u001b[39m\n\u001b[1;32m----> 7\u001b[0m demfab \u001b[38;5;241m=\u001b[39m \u001b[43mxdem\u001b[49m\u001b[38;5;241;43m.\u001b[39;49m\u001b[43mDEM\u001b[49m\u001b[43m(\u001b[49m\u001b[43mfid_fab\u001b[49m\u001b[43m)\u001b[49m\u001b[38;5;241m.\u001b[39mreproject(dst_crs\u001b[38;5;241m=\u001b[39mpyproj\u001b[38;5;241m.\u001b[39mCRS(\u001b[38;5;241m32633\u001b[39m),dst_res\u001b[38;5;241m=\u001b[39m(\u001b[38;5;241m20\u001b[39m,\u001b[38;5;241m20\u001b[39m))\n\u001b[0;32m      8\u001b[0m grid \u001b[38;5;241m=\u001b[39m xdem\u001b[38;5;241m.\u001b[39mDEM(\u001b[38;5;124mr\u001b[39m\u001b[38;5;124m'\u001b[39m\u001b[38;5;124mC:\u001b[39m\u001b[38;5;124m\\\u001b[39m\u001b[38;5;124mUsers\u001b[39m\u001b[38;5;124m\\\u001b[39m\u001b[38;5;124mZOZN109\u001b[39m\u001b[38;5;124m\\\u001b[39m\u001b[38;5;124mOneDrive - Universitetet i Oslo\u001b[39m\u001b[38;5;124m\\\u001b[39m\u001b[38;5;124mxsnow\u001b[39m\u001b[38;5;124m\\\u001b[39m\u001b[38;5;124mus_nga_egm08_25.tif\u001b[39m\u001b[38;5;124m'\u001b[39m)\n",
      "File \u001b[1;32mc:\\Users\\ZOZN109\\Documents\\GitHub\\xdem_snow\\xdem\\dem.py:88\u001b[0m, in \u001b[0;36mDEM.__init__\u001b[1;34m(self, filename_or_dataset, vref_name, vref_grid, silent, **kwargs)\u001b[0m\n\u001b[0;32m     85\u001b[0m         \u001b[39msuper\u001b[39m()\u001b[39m.\u001b[39m\u001b[39m__init__\u001b[39m(filename_or_dataset, silent\u001b[39m=\u001b[39msilent, \u001b[39m*\u001b[39m\u001b[39m*\u001b[39mkwargs)\n\u001b[0;32m     87\u001b[0m \u001b[39m# self.nbands can be None when data is not loaded through the Raster class\u001b[39;00m\n\u001b[1;32m---> 88\u001b[0m \u001b[39mif\u001b[39;00m \u001b[39mself\u001b[39m\u001b[39m.\u001b[39mnbands \u001b[39mis\u001b[39;00m \u001b[39mnot\u001b[39;00m \u001b[39mNone\u001b[39;00m \u001b[39mand\u001b[39;00m \u001b[39mself\u001b[39m\u001b[39m.\u001b[39mnbands \u001b[39m>\u001b[39m \u001b[39m1\u001b[39m:\n\u001b[0;32m     89\u001b[0m     \u001b[39mraise\u001b[39;00m \u001b[39mValueError\u001b[39;00m(\u001b[39m\"\u001b[39m\u001b[39mDEM rasters should be composed of one band only\u001b[39m\u001b[39m\"\u001b[39m)\n\u001b[0;32m     91\u001b[0m \u001b[39m# user input\u001b[39;00m\n",
      "\u001b[1;31mAttributeError\u001b[0m: 'DEM' object has no attribute 'nbands'"
     ]
    }
   ],
   "source": [
    "# test demfab why there is a problem\n",
    "import xdem\n",
    "import pyproj\n",
    "\n",
    "fid_fab = r'C:\\Users\\ZOZN109\\OneDrive - Universitetet i Oslo\\Desktop\\N62E010_FABDEM_V1-0.tif'\n",
    "\n",
    "demfab = xdem.DEM(fid_fab).reproject(dst_crs=pyproj.CRS(32633),dst_res=(20,20))\n",
    "grid = xdem.DEM(r'C:\\Users\\ZOZN109\\OneDrive - Universitetet i Oslo\\xsnow\\us_nga_egm08_25.tif')"
   ]
  },
  {
   "cell_type": "code",
   "execution_count": 15,
   "metadata": {},
   "outputs": [
    {
     "ename": "AttributeError",
     "evalue": "'DEM' object has no attribute 'nbands'",
     "output_type": "error",
     "traceback": [
      "\u001b[1;31m---------------------------------------------------------------------------\u001b[0m",
      "\u001b[1;31mAttributeError\u001b[0m                            Traceback (most recent call last)",
      "Cell \u001b[1;32mIn[15], line 1\u001b[0m\n\u001b[1;32m----> 1\u001b[0m demfab \u001b[38;5;241m=\u001b[39m \u001b[43mxdem\u001b[49m\u001b[38;5;241;43m.\u001b[39;49m\u001b[43mDEM\u001b[49m\u001b[43m(\u001b[49m\u001b[43mfid_fab\u001b[49m\u001b[43m)\u001b[49m\n",
      "File \u001b[1;32mc:\\Users\\ZOZN109\\Documents\\GitHub\\xdem_snow\\xdem\\dem.py:88\u001b[0m, in \u001b[0;36mDEM.__init__\u001b[1;34m(self, filename_or_dataset, vref_name, vref_grid, silent, **kwargs)\u001b[0m\n\u001b[0;32m     85\u001b[0m         \u001b[39msuper\u001b[39m()\u001b[39m.\u001b[39m\u001b[39m__init__\u001b[39m(filename_or_dataset, silent\u001b[39m=\u001b[39msilent, \u001b[39m*\u001b[39m\u001b[39m*\u001b[39mkwargs)\n\u001b[0;32m     87\u001b[0m \u001b[39m# self.nbands can be None when data is not loaded through the Raster class\u001b[39;00m\n\u001b[1;32m---> 88\u001b[0m \u001b[39mif\u001b[39;00m \u001b[39mself\u001b[39m\u001b[39m.\u001b[39mnbands \u001b[39mis\u001b[39;00m \u001b[39mnot\u001b[39;00m \u001b[39mNone\u001b[39;00m \u001b[39mand\u001b[39;00m \u001b[39mself\u001b[39m\u001b[39m.\u001b[39mnbands \u001b[39m>\u001b[39m \u001b[39m1\u001b[39m:\n\u001b[0;32m     89\u001b[0m     \u001b[39mraise\u001b[39;00m \u001b[39mValueError\u001b[39;00m(\u001b[39m\"\u001b[39m\u001b[39mDEM rasters should be composed of one band only\u001b[39m\u001b[39m\"\u001b[39m)\n\u001b[0;32m     91\u001b[0m \u001b[39m# user input\u001b[39;00m\n",
      "\u001b[1;31mAttributeError\u001b[0m: 'DEM' object has no attribute 'nbands'"
     ]
    }
   ],
   "source": [
    "demfab = xdem.DEM(fid_fab)"
   ]
  },
  {
   "cell_type": "code",
   "execution_count": null,
   "metadata": {},
   "outputs": [
    {
     "data": {
      "text/plain": [
       "Driver:               None \n",
       "Opened from file:     None \n",
       "Filename:             None \n",
       "Raster modified since disk load?  True \n",
       "Size:                 2959, 5741\n",
       "Number of bands:      1\n",
       "Data types:           ('float32',)\n",
       "Coordinate System:    ['EPSG:32633']\n",
       "NoData Value:         -9999.0\n",
       "Pixel Size:           20.0, 20.0\n",
       "Upper Left Corner:    238286.29553975418, 6880633.456051373\n",
       "Lower Right Corner:   297466.2955397542, 6995453.456051373"
      ]
     },
     "execution_count": 8,
     "metadata": {},
     "output_type": "execute_result"
    }
   ],
   "source": [
    "demfab"
   ]
  },
  {
   "cell_type": "code",
   "execution_count": 2,
   "metadata": {},
   "outputs": [
    {
     "ename": "NameError",
     "evalue": "name 'grid' is not defined",
     "output_type": "error",
     "traceback": [
      "\u001b[1;31m---------------------------------------------------------------------------\u001b[0m",
      "\u001b[1;31mNameError\u001b[0m                                 Traceback (most recent call last)",
      "Cell \u001b[1;32mIn[2], line 1\u001b[0m\n\u001b[1;32m----> 1\u001b[0m \u001b[43mgrid\u001b[49m\u001b[38;5;241m.\u001b[39mreproject(demfab) \u001b[38;5;241m+\u001b[39m demfab\n",
      "\u001b[1;31mNameError\u001b[0m: name 'grid' is not defined"
     ]
    }
   ],
   "source": [
    "grid.reproject(demfab) + demfab"
   ]
  }
 ],
 "metadata": {
  "kernelspec": {
   "display_name": "Python 3.10.8 ('xdem')",
   "language": "python",
   "name": "python3"
  },
  "language_info": {
   "codemirror_mode": {
    "name": "ipython",
    "version": 3
   },
   "file_extension": ".py",
   "mimetype": "text/x-python",
   "name": "python",
   "nbconvert_exporter": "python",
   "pygments_lexer": "ipython3",
   "version": "3.10.8"
  },
  "orig_nbformat": 4,
  "vscode": {
   "interpreter": {
    "hash": "a4eb659f344eb464b988a9700403a5ccc4291f74494716d5f9149c713168e3aa"
   }
  }
 },
 "nbformat": 4,
 "nbformat_minor": 2
}
